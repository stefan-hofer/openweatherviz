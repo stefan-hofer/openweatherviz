{
 "cells": [
  {
   "cell_type": "code",
   "execution_count": 61,
   "metadata": {},
   "outputs": [],
   "source": [
    "import pandas as pd\n",
    "import xarray as xr\n",
    "import numpy as np\n",
    "import seaborn as sns\n",
    "import os\n",
    "import folium\n",
    "from folium.features import DivIcon\n",
    "\n",
    "\n",
    "met_data = pd.read_csv('20240823-145000_10min_TAWES.csv')\n",
    "station_data = pd.read_csv('station_info.csv').rename(columns={'id':'station'})\n",
    "\n",
    "merged_data = pd.merge(met_data, station_data, on='station')\n",
    "\n",
    "merged_data\n",
    "\n",
    "# extract = merged_data[merged_data['name'].str.contains(r'Mariazell|Lilienfeld|St.P')][['tl','time','name', 'lat', 'lon']]\n",
    "extract = merged_data[['tl','time','name', 'lat', 'lon']]\n",
    "\n",
    "\n",
    "# # Plot the responses for different events and regions\n",
    "# sns.lineplot(x=\"time\", y=\"tl\",\n",
    "#              hue=\"name\",\n",
    "#              data=extract)\n",
    "\n",
    "# sns.despine()\n",
    "\n"
   ]
  },
  {
   "cell_type": "code",
   "execution_count": 62,
   "metadata": {},
   "outputs": [
    {
     "data": {
      "text/plain": [
       "numpy.float64"
      ]
     },
     "execution_count": 62,
     "metadata": {},
     "output_type": "execute_result"
    }
   ],
   "source": [
    "noe_values = extract.loc[extract['time'] == extract['time'][2]]\n",
    "\n",
    "\n",
    "# iterate through each row and select\n",
    "# 'Name' and 'Stream' column respectively.\n",
    "\n",
    "for ind in noe_values.index:\n",
    "    # print('Lat: {}, Lon: {}'.format(noe_values['lat'][ind], noe_values['lon'][ind]))\n",
    "    lats = [noe_values['lat'][ind] for ind in noe_values.index]\n",
    "    lons = [noe_values['lon'][ind] for ind in noe_values.index]\n",
    "    temp = [noe_values['tl'][ind] for ind in noe_values.index]\n",
    "\n",
    "type(temp[0])"
   ]
  },
  {
   "cell_type": "code",
   "execution_count": 65,
   "metadata": {},
   "outputs": [],
   "source": [
    "\n",
    "\n",
    "m = folium.Map(location=[lats[0], lons[0]], zoom_start=7,\n",
    "               tiles='https://tile.jawg.io/jawg-dark/{z}/{x}/{y}{r}.png?access-token=MglwGpuT1VUaVc2LSRX042X3krQz6y2cOZfGtNqWg3VMUke6gemUIWz7G1uxPPXP',\n",
    "               attr='CartoDB.Voyager', max_zoom=20)\n",
    "\n",
    "for i in range(len(lats)):\n",
    "        html_str = '<div style=\"font-size: 18pt; color : #FBD603\">' + str(temp[i]) + '</div>'\n",
    "        p1 = [lats[i], lons[i]]\n",
    "        folium.Marker(p1, icon=DivIcon(\n",
    "                icon_size=(150,36),\n",
    "                icon_anchor=(7,20),\n",
    "                html= html_str,\n",
    "                )).add_to(m)\n",
    "        # m.add_child(folium.CircleMarker(p1, radius=15))\n",
    "\n",
    "\n",
    "\n",
    "\n",
    "# icon = folium.DivIcon(html=\"17.4\")\n",
    "# folium.Marker([47.0, 15.0], icon=icon).add_to(m)\n",
    "m.save(os.path.join('simple_popups.html'))"
   ]
  },
  {
   "cell_type": "code",
   "execution_count": null,
   "metadata": {},
   "outputs": [],
   "source": []
  }
 ],
 "metadata": {
  "kernelspec": {
   "display_name": "streamlit",
   "language": "python",
   "name": "python3"
  },
  "language_info": {
   "codemirror_mode": {
    "name": "ipython",
    "version": 3
   },
   "file_extension": ".py",
   "mimetype": "text/x-python",
   "name": "python",
   "nbconvert_exporter": "python",
   "pygments_lexer": "ipython3",
   "version": "3.12.5"
  }
 },
 "nbformat": 4,
 "nbformat_minor": 2
}

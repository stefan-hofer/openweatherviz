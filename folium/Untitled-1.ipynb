{
 "cells": [
  {
   "cell_type": "code",
   "execution_count": 21,
   "metadata": {},
   "outputs": [
    {
     "name": "stdout",
     "output_type": "stream",
     "text": [
      "1002.0368199335539 hectopascal 850.5282600553385 hectopascal 788.6961434502869 hectopascal\n"
     ]
    }
   ],
   "source": [
    "from metpy.calc import altimeter_to_sea_level_pressure\n",
    "from metpy.units import units\n",
    "import numpy as np\n",
    "\n",
    "mslp_one = altimeter_to_sea_level_pressure(1000 * units.hPa, 300 * units.meter, 0 * units.degC)\n",
    "mslp_two = altimeter_to_sea_level_pressure(850 * units.hPa, 150 * units.meter, 1 * units.degC)\n",
    "mslp_three = altimeter_to_sea_level_pressure(800 * units.hPa, 1500 * units.meter, 20 * units.degC)\n",
    "\n",
    "print(mslp_one, mslp_two, mslp_three)"
   ]
  },
  {
   "cell_type": "code",
   "execution_count": 30,
   "metadata": {},
   "outputs": [
    {
     "name": "stdout",
     "output_type": "stream",
     "text": [
      "997.471032714199 8488.706470198338\n"
     ]
    }
   ],
   "source": [
    "rd = 287.05\n",
    "g = 9.8065\n",
    "T = 290\n",
    "p0 = 980\n",
    "z = 150\n",
    "\n",
    "H  = (rd * T) / g\n",
    "\n",
    "p = p0 * np.exp(z/H)\n",
    "\n",
    "print(p, H)\n",
    "\n",
    "def reduce_to_slp(altitude, station_pressure, temp):\n",
    "    rd = 287.05\n",
    "    g = 9.8065\n",
    "    T = temp + 273.15\n",
    "    H  = (rd * T) / g\n",
    "\n",
    "    return station_pressure * np.exp(altitude/H)    \n",
    "    "
   ]
  },
  {
   "cell_type": "code",
   "execution_count": null,
   "metadata": {},
   "outputs": [],
   "source": []
  }
 ],
 "metadata": {
  "kernelspec": {
   "display_name": "streamlit",
   "language": "python",
   "name": "python3"
  },
  "language_info": {
   "codemirror_mode": {
    "name": "ipython",
    "version": 3
   },
   "file_extension": ".py",
   "mimetype": "text/x-python",
   "name": "python",
   "nbconvert_exporter": "python",
   "pygments_lexer": "ipython3",
   "version": "3.12.5"
  }
 },
 "nbformat": 4,
 "nbformat_minor": 2
}

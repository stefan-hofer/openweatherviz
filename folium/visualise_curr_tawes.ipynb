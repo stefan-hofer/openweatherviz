{
 "cells": [
  {
   "cell_type": "code",
   "execution_count": null,
   "metadata": {},
   "outputs": [],
   "source": [
    "import pandas as pd\n",
    "import xarray as xr\n",
    "import numpy as np\n",
    "import seaborn as sns\n",
    "import os\n",
    "import folium\n",
    "import folium.plugins as plugins\n",
    "from folium.features import DivIcon\n",
    "from metpy.calc import dewpoint_from_relative_humidity, altimeter_to_sea_level_pressure, equivalent_potential_temperature\n",
    "from metpy.units import units\n",
    "import matplotlib.pyplot as plt\n",
    "import matplotlib.dates as mdates\n",
    "import datetime\n",
    "import base64"
   ]
  }
 ],
 "metadata": {
  "language_info": {
   "name": "python"
  }
 },
 "nbformat": 4,
 "nbformat_minor": 2
}
